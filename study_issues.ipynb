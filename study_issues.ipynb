{
 "cells": [
  {
   "cell_type": "markdown",
   "metadata": {},
   "source": [
    "# Imports"
   ]
  },
  {
   "cell_type": "code",
   "execution_count": null,
   "metadata": {},
   "outputs": [],
   "source": [
    "import numpy as np\n",
    "import pandas as pd\n",
    "from sklearn.neural_network import MLPClassifier\n",
    "from sklearn.neural_network import MLPRegressor\n",
    "from sklearn.metrics import accuracy_score\n",
    "from sklearn.metrics import balanced_accuracy_score\n",
    "\n",
    "from test_functions import *\n",
    "from data_processing_functions import *"
   ]
  },
  {
   "cell_type": "markdown",
   "metadata": {},
   "source": [
    "# Study issue I"
   ]
  },
  {
   "cell_type": "code",
   "execution_count": null,
   "metadata": {},
   "outputs": [],
   "source": [
    "data_train, data_test = get_train_and_test_data('./data', amount_of_days=3, wind_border=8, convert_str_variable_flag=True)\n",
    "x_data_train, y_data_wind_train, y_data_temperature_train = data_train\n",
    "x_data_test, y_data_wind_test, y_data_temperature_test = data_test"
   ]
  },
  {
   "cell_type": "markdown",
   "metadata": {},
   "source": [
    "# Study issue II"
   ]
  },
  {
   "cell_type": "markdown",
   "metadata": {},
   "source": [
    "### Original data"
   ]
  },
  {
   "cell_type": "markdown",
   "metadata": {},
   "source": [
    "#### 2 * N + 1"
   ]
  },
  {
   "cell_type": "code",
   "execution_count": null,
   "metadata": {},
   "outputs": [],
   "source": [
    "# run_classification(x_data_train, y_data_wind_train, x_data_test, y_data_wind_test, hidden_layer_sizes=[45])\n",
    "run_regression(x_data_train, y_data_temperature_train, x_data_test, y_data_temperature_test, hidden_layer_sizes=[45])"
   ]
  },
  {
   "cell_type": "markdown",
   "metadata": {},
   "source": [
    "#### sqrt(N*M)"
   ]
  },
  {
   "cell_type": "code",
   "execution_count": null,
   "metadata": {},
   "outputs": [],
   "source": [
    "run_classification(x_data_train, y_data_wind_train, x_data_test, y_data_wind_test, hidden_layer_sizes=[5])\n",
    "run_regression(x_data_train, y_data_temperature_train, x_data_test, y_data_temperature_test, hidden_layer_sizes=[5])"
   ]
  },
  {
   "cell_type": "markdown",
   "metadata": {},
   "source": [
    "### Normalized data"
   ]
  },
  {
   "cell_type": "markdown",
   "metadata": {},
   "source": [
    "#### 2 * N + 1"
   ]
  },
  {
   "cell_type": "code",
   "execution_count": null,
   "metadata": {},
   "outputs": [],
   "source": [
    "normalized_x_train = minmax_normalization(x_data_train)\n",
    "normalized_y_temp_train = minmax_normalization(y_data_temperature_train)\n",
    "normalized_x_test = minmax_normalization(x_data_test)\n",
    "normalized_y_temp_test = minmax_normalization(y_data_temperature_test)\n",
    "\n",
    "run_classification(normalized_x_train, y_data_wind_train, normalized_x_test, y_data_wind_test, hidden_layer_sizes=[45])\n",
    "run_regression(normalized_x_train, normalized_y_temp_train, normalized_x_test, normalized_y_temp_test, hidden_layer_sizes=[45])"
   ]
  },
  {
   "cell_type": "markdown",
   "metadata": {},
   "source": [
    "#### sqrt(N*M)"
   ]
  },
  {
   "cell_type": "code",
   "execution_count": null,
   "metadata": {},
   "outputs": [],
   "source": [
    "run_classification(normalized_x_train, y_data_wind_train, normalized_x_test, y_data_wind_test, hidden_layer_sizes=[5])\n",
    "run_regression(normalized_x_train, normalized_y_temp_train, normalized_x_test, normalized_y_temp_test, hidden_layer_sizes=[5])"
   ]
  },
  {
   "cell_type": "markdown",
   "metadata": {},
   "source": [
    "# Study issue III"
   ]
  },
  {
   "cell_type": "code",
   "execution_count": null,
   "metadata": {},
   "outputs": [],
   "source": [
    "data_3_train, data_3_test = get_train_and_test_data_by_3_days('./data', amount_of_days=3, wind_border=8, convert_str_variable_flag=True)\n",
    "x_data_3_train, y_data_3_wind_train, y_data_3_temperature_train = data_3_train\n",
    "x_data_3_test, y_data_3_wind_test, y_data_3_temperature_test = data_3_test"
   ]
  },
  {
   "cell_type": "code",
   "execution_count": null,
   "metadata": {},
   "outputs": [],
   "source": [
    "run_classification(x_data_3_train, y_data_3_wind_train, x_data_3_test, y_data_3_wind_test)\n",
    "run_regression(x_data_3_train, y_data_3_temperature_train, x_data_3_test, y_data_3_temperature_test)"
   ]
  },
  {
   "cell_type": "code",
   "execution_count": null,
   "metadata": {},
   "outputs": [],
   "source": [
    "normalized_x_train3 = mean_normalization(x_data_3_train)\n",
    "normalized_y_temp_train3 = mean_normalization(y_data_3_temperature_train)\n",
    "normalized_x_test3 = mean_normalization(x_data_3_test)\n",
    "normalized_y_temp_test3 = mean_normalization(y_data_3_temperature_test)\n",
    "\n",
    "run_classification(normalized_x_train3, y_data_wind_train, normalized_x_test3, y_data_wind_test)\n",
    "run_regression(normalized_x_train3, normalized_y_temp_train3, normalized_x_test3, normalized_y_temp_test3)"
   ]
  },
  {
   "cell_type": "markdown",
   "metadata": {},
   "source": [
    "# Study issue IV"
   ]
  },
  {
   "cell_type": "markdown",
   "metadata": {},
   "source": [
    "### Zastąpienie null średnią"
   ]
  },
  {
   "cell_type": "code",
   "execution_count": null,
   "metadata": {},
   "outputs": [],
   "source": [
    "data_train, data_test = get_train_and_test_data('./data', amount_of_days=3, wind_border=8, convert_str_variable_flag=True, remove_nulls = 2)\n",
    "x_data_train, y_data_wind_train, y_data_temperature_train = data_train\n",
    "x_data_test, y_data_wind_test, y_data_temperature_test = data_test"
   ]
  },
  {
   "cell_type": "code",
   "execution_count": null,
   "metadata": {},
   "outputs": [],
   "source": [
    "# clf = MLPClassifier(alpha=1e-5, hidden_layer_sizes=(100, 20), random_state=1)\n",
    "# clf.fit(x_data_train, y_data_wind_train)\n",
    "# predicted = clf.predict(x_data_test)\n",
    "# print(\"Accuracy: {:.5f}\".format(accuracy_score(y_data_wind_test, predicted)))\n",
    "# print(\"Resampled balanced accuracy: {:.5f}\".format(balanced_accuracy_score(y_data_wind_test, predicted)))\n",
    "run_classification(x_data_train, y_data_wind_train, x_data_test, y_data_wind_test, hidden_layer_sizes=(100, 20))"
   ]
  },
  {
   "cell_type": "code",
   "execution_count": null,
   "metadata": {},
   "outputs": [],
   "source": [
    "# regr = MLPRegressor(alpha=1e-6, hidden_layer_sizes=(100, 20), random_state=1)\n",
    "# regr.fit(x_data_train, y_data_temperature_train)\n",
    "# err = abs(regr.predict(x_data_test) - y_data_temperature_test)\n",
    "# MAE = round(np.mean(err),2)\n",
    "# RMSE = round(np.sqrt(((err)**2).mean()),2)\n",
    "# print(\"MAE:\", MAE, \"RMSE:\", RMSE)\n",
    "run_regression(x_data_train, y_data_temperature_train, x_data_test, y_data_temperature_test, hidden_layer_sizes=(100, 20))"
   ]
  },
  {
   "cell_type": "markdown",
   "metadata": {},
   "source": [
    "### Zastąpienie null wartościami powyżej i poniżej"
   ]
  },
  {
   "cell_type": "code",
   "execution_count": null,
   "metadata": {},
   "outputs": [],
   "source": [
    "data_train, data_test = get_train_and_test_data('./data', amount_of_days=3, wind_border=8, convert_str_variable_flag=True, remove_nulls = 3)\n",
    "x_data_train, y_data_wind_train, y_data_temperature_train = data_train\n",
    "x_data_test, y_data_wind_test, y_data_temperature_test = data_test"
   ]
  },
  {
   "cell_type": "code",
   "execution_count": null,
   "metadata": {},
   "outputs": [],
   "source": [
    "# clf = MLPClassifier(alpha=1e-5, hidden_layer_sizes=(100, 20), random_state=1)\n",
    "# clf.fit(x_data_train, y_data_wind_train)\n",
    "# predicted = clf.predict(x_data_test)\n",
    "# print(\"Accuracy: {:.5f}\".format(accuracy_score(y_data_wind_test, predicted)))\n",
    "# print(\"Resampled balanced accuracy: {:.5f}\".format(balanced_accuracy_score(y_data_wind_test, predicted)))\n",
    "run_classification(x_data_train, y_data_wind_train, x_data_test, y_data_wind_test, hidden_layer_sizes=(100, 20))"
   ]
  },
  {
   "cell_type": "code",
   "execution_count": null,
   "metadata": {},
   "outputs": [],
   "source": [
    "# regr = MLPRegressor(alpha=1e-6, hidden_layer_sizes=(100, 20), random_state=1)\n",
    "# regr.fit(x_data_train, y_data_temperature_train)\n",
    "# err = abs(regr.predict(x_data_test) - y_data_temperature_test)\n",
    "# MAE = round(np.mean(err),2)\n",
    "# RMSE = round(np.sqrt(((err)**2).mean()),2)\n",
    "# print(\"MAE:\", MAE, \"RMSE:\", RMSE)\n",
    "run_regression(x_data_train, y_data_temperature_train, x_data_test, y_data_temperature_test, hidden_layer_sizes=(100, 20))"
   ]
  },
  {
   "cell_type": "markdown",
   "metadata": {},
   "source": [
    "# Study issue V"
   ]
  },
  {
   "cell_type": "code",
   "execution_count": null,
   "metadata": {},
   "outputs": [],
   "source": [
    "data_train, dest_test = get_train_and_test_data_with_separate_day('./data', amount_of_days=3, wind_border=8, convert_str_variable_flag=True)\n",
    "x_data_train, y_data_wind_train1, y_data_temperature_train1, y_data_wind_train2, y_data_temperature_train2 = data_train\n",
    "x_data_test, y_data_wind_test1, y_data_temperature_test1, y_data_wind_test2, y_data_temperature_test2 = data_train"
   ]
  },
  {
   "cell_type": "markdown",
   "metadata": {},
   "source": [
    "### Uczenie na podstawie predykcji"
   ]
  },
  {
   "cell_type": "code",
   "execution_count": 27,
   "metadata": {},
   "outputs": [],
   "source": [
    "# clf1 = MLPClassifier(alpha=1e-5, hidden_layer_sizes=(100, 20), random_state=1)\n",
    "# clf2 = MLPClassifier(alpha=1e-5, hidden_layer_sizes=(100, 20), random_state=1)\n",
    "# clf1.fit(x_data_train, y_data_wind_train1)\n",
    "# predicted1 = clf1.predict(x_data_train)\n",
    "# clf2.fit(predicted1.reshape(-1, 1), y_data_wind_train2)\n",
    "\n",
    "# predicted2 = clf1.predict(x_data_test)\n",
    "# predicted = clf2.predict(predicted2.reshape(-1, 1))\n",
    "# print(\"Accuracy: {:.5f}\".format(accuracy_score(y_data_wind_test2, predicted)))\n",
    "# print(\"Resampled balanced accuracy: {:.5f}\".format(balanced_accuracy_score(y_data_wind_test2, predicted)))\n",
    "classification_study_issue_5(x_data_train, y_data_wind_train1, y_data_wind_train2, x_data_test, y_data_wind_test2 ,hidden_layer_sizes = (100,20))"
   ]
  },
  {
   "cell_type": "code",
   "execution_count": null,
   "metadata": {},
   "outputs": [],
   "source": [
    "# regr1 = MLPRegressor(alpha=1e-6, hidden_layer_sizes=(100, 20), random_state=1)\n",
    "# regr2 = MLPRegressor(alpha=1e-6, hidden_layer_sizes=(100, 20), random_state=1)\n",
    "# regr1.fit(x_data_train, y_data_temperature_train1)\n",
    "# prediced1 = regr1.predict(x_data_train)\n",
    "# regr2.fit(prediced1.reshape(-1, 1), y_data_temperature_train2)\n",
    "\n",
    "# prediced2 = regr1.predict(x_data_test)\n",
    "# err = abs(regr2.predict(prediced2.reshape(-1, 1)) - y_data_temperature_test2)\n",
    "# MAE = round(np.mean(err),2)\n",
    "# RMSE = round(np.sqrt(((err)**2).mean()),2)\n",
    "# print(\"MAE:\", MAE, \"RMSE:\", RMSE)\n",
    "regression_study_issue_5(x_data_train, y_data_temperature_train1, y_data_temperature_train2, x_data_test, y_data_temperature_test2 ,hidden_layer_sizes = (100,20))"
   ]
  },
  {
   "cell_type": "markdown",
   "metadata": {},
   "source": [
    "### Uczenie na podstawie prawdziwych danych"
   ]
  },
  {
   "cell_type": "code",
   "execution_count": null,
   "metadata": {},
   "outputs": [],
   "source": [
    "# clf1 = MLPClassifier(alpha=1e-5, hidden_layer_sizes=(100, 20), random_state=1)\n",
    "# clf2 = MLPClassifier(alpha=1e-5, hidden_layer_sizes=(100, 20), random_state=1)\n",
    "# clf1.fit(x_data_train, y_data_wind_train1)\n",
    "# clf2.fit(y_data_wind_train1, y_data_wind_train2)\n",
    "\n",
    "# predicted2 = clf1.predict(x_data_test)\n",
    "# predicted = clf2.predict(predicted2.reshape(-1, 1))\n",
    "# print(\"Accuracy: {:.5f}\".format(accuracy_score(y_data_wind_test2, predicted)))\n",
    "# print(\"Resampled balanced accuracy: {:.5f}\".format(balanced_accuracy_score(y_data_wind_test2, predicted)))\n",
    "classification_study_issue_5_real(x_data_train, y_data_wind_train1, y_data_wind_train2, x_data_test, y_data_wind_test2 ,hidden_layer_sizes = (100,20))"
   ]
  },
  {
   "cell_type": "code",
   "execution_count": null,
   "metadata": {},
   "outputs": [],
   "source": [
    "# regr1 = MLPRegressor(alpha=1e-6, hidden_layer_sizes=(100, 20), random_state=1)\n",
    "# regr2 = MLPRegressor(alpha=1e-6, hidden_layer_sizes=(100, 20), random_state=1)\n",
    "# regr1.fit(x_data_train, y_data_temperature_train1)\n",
    "# regr2.fit(y_data_temperature_train1, y_data_temperature_train2)\n",
    "\n",
    "# prediced2 = regr1.predict(x_data_test)\n",
    "# err = abs(regr2.predict(prediced2.reshape(-1, 1)) - y_data_temperature_test2)\n",
    "# MAE = round(np.mean(err),2)\n",
    "# RMSE = round(np.sqrt(((err)**2).mean()),2)\n",
    "# print(\"MAE:\", MAE, \"RMSE:\", RMSE)\n",
    "regression_study_issue_5_real(x_data_train, y_data_temperature_train1, y_data_temperature_train2, x_data_test, y_data_temperature_test2 ,hidden_layer_sizes = (100,20))"
   ]
  },
  {
   "cell_type": "markdown",
   "metadata": {},
   "source": [
    "# Study issue VI"
   ]
  },
  {
   "cell_type": "code",
   "execution_count": null,
   "metadata": {},
   "outputs": [],
   "source": [
    "# Dlugo liczy\n",
    "data_by_seasons = get_train_and_test_data_by_season('./data', amount_of_days=3, wind_border=8, convert_str_variable_flag=True)\n",
    "data_train0, data_train0 = data_by_seasons[0]\n",
    "x_data_train0, y_data_wind_train0, y_data_temperature_train0 = data_train0\n",
    "x_data_test0, y_data_wind_test0, y_data_temperature_test0 = data_train0\n",
    "\n",
    "data_train1, data_train1 = data_by_seasons[1]\n",
    "x_data_train1, y_data_wind_train1, y_data_temperature_train1 = data_train1\n",
    "x_data_test1, y_data_wind_test1, y_data_temperature_test1 = data_train1\n",
    "\n",
    "data_train2, data_train2 = data_by_seasons[2]\n",
    "x_data_train2, y_data_wind_train2, y_data_temperature_train2 = data_train2\n",
    "x_data_test2, y_data_wind_test2, y_data_temperature_test2 = data_train2\n",
    "\n",
    "data_train3, data_train3 = data_by_seasons[3]\n",
    "x_data_train3, y_data_wind_train3, y_data_temperature_train3 = data_train3\n",
    "x_data_test3, y_data_wind_test3, y_data_temperature_test3 = data_train3"
   ]
  },
  {
   "cell_type": "markdown",
   "metadata": {},
   "source": [
    "### Spring"
   ]
  },
  {
   "cell_type": "code",
   "execution_count": null,
   "metadata": {},
   "outputs": [],
   "source": [
    "# clf = MLPClassifier(alpha=1e-5, hidden_layer_sizes=(100, 20), random_state=1)\n",
    "# clf.fit(x_data_train0, y_data_wind_train0)\n",
    "# predicted = clf.predict(x_data_test0)\n",
    "# print(\"Accuracy: {:.5f}\".format(accuracy_score(y_data_wind_test0, predicted)))\n",
    "# print(\"Resampled balanced accuracy: {:.5f}\".format(balanced_accuracy_score(y_data_wind_test0, predicted)))\n",
    "run_classification(x_data_train0, y_data_wind_train0,x_data_test0, y_data_wind_test0 )"
   ]
  },
  {
   "cell_type": "code",
   "execution_count": null,
   "metadata": {},
   "outputs": [],
   "source": [
    "# regr = MLPRegressor(alpha=1e-6, hidden_layer_sizes=(100, 20), random_state=1)\n",
    "# regr.fit(x_data_train0, y_data_temperature_train0)\n",
    "# err = abs(regr.predict(x_data_test0) - y_data_temperature_test0)\n",
    "# MAE = round(np.mean(err),2)\n",
    "# RMSE = round(np.sqrt(((err)**2).mean()),2)\n",
    "# print(\"MAE:\", MAE, \"RMSE:\", RMSE)\n",
    "run_regression(x_data_train0, y_data_temperature_train0, x_data_test0, y_data_temperature_test0 )"
   ]
  },
  {
   "cell_type": "markdown",
   "metadata": {},
   "source": [
    "### Summer"
   ]
  },
  {
   "cell_type": "code",
   "execution_count": null,
   "metadata": {},
   "outputs": [],
   "source": [
    "# clf = MLPClassifier(alpha=1e-5, hidden_layer_sizes=(100, 20), random_state=1)\n",
    "# clf.fit(x_data_train1, y_data_wind_train1)\n",
    "# predicted = clf.predict(x_data_test1)\n",
    "# print(\"Accuracy: {:.5f}\".format(accuracy_score(y_data_wind_test1, predicted)))\n",
    "# print(\"Resampled balanced accuracy: {:.5f}\".format(balanced_accuracy_score(y_data_wind_test1, predicted)))\n",
    "run_classification(x_data_train1, y_data_wind_train1,x_data_test1, y_data_wind_test1 )"
   ]
  },
  {
   "cell_type": "code",
   "execution_count": null,
   "metadata": {},
   "outputs": [],
   "source": [
    "# regr = MLPRegressor(alpha=1e-6, hidden_layer_sizes=(100, 20), random_state=1)\n",
    "# regr.fit(x_data_train1, y_data_temperature_train1)\n",
    "# err = abs(regr.predict(x_data_test1) - y_data_temperature_test1)\n",
    "# MAE = round(np.mean(err),2)\n",
    "# RMSE = round(np.sqrt(((err)**2).mean()),2)\n",
    "# print(\"MAE:\", MAE, \"RMSE:\", RMSE)\n",
    "run_regression(x_data_train1, y_data_temperature_train1, x_data_test1,y_data_temperature_test1)"
   ]
  },
  {
   "cell_type": "markdown",
   "metadata": {},
   "source": [
    "### Fall"
   ]
  },
  {
   "cell_type": "code",
   "execution_count": null,
   "metadata": {},
   "outputs": [],
   "source": [
    "# clf = MLPClassifier(alpha=1e-5, hidden_layer_sizes=(100, 20), random_state=1)\n",
    "# clf.fit(x_data_train2, y_data_wind_train2)\n",
    "# predicted = clf.predict(x_data_test2)\n",
    "# print(\"Accuracy: {:.5f}\".format(accuracy_score(y_data_wind_test2, predicted)))\n",
    "# print(\"Resampled balanced accuracy: {:.5f}\".format(balanced_accuracy_score(y_data_wind_test2, predicted)))\n",
    "run_classification(x_data_train2, y_data_wind_train2,x_data_test2, y_data_wind_test2 )"
   ]
  },
  {
   "cell_type": "code",
   "execution_count": null,
   "metadata": {},
   "outputs": [],
   "source": [
    "# regr = MLPRegressor(alpha=1e-6, hidden_layer_sizes=(100, 20), random_state=1)\n",
    "# regr.fit(x_data_train2, y_data_temperature_train2)\n",
    "# err = abs(regr.predict(x_data_test2) - y_data_temperature_test2)\n",
    "# MAE = round(np.mean(err),2)\n",
    "# RMSE = round(np.sqrt(((err)**2).mean()),2)\n",
    "# print(\"MAE:\", MAE, \"RMSE:\", RMSE)\n",
    "run_regression(x_data_train2, y_data_temperature_train2, x_data_test2,y_data_temperature_test2)"
   ]
  },
  {
   "cell_type": "markdown",
   "metadata": {},
   "source": [
    "### Winter"
   ]
  },
  {
   "cell_type": "code",
   "execution_count": null,
   "metadata": {},
   "outputs": [],
   "source": [
    "# clf = MLPClassifier(alpha=1e-5, hidden_layer_sizes=(100, 20), random_state=1)\n",
    "# clf.fit(x_data_train3, y_data_wind_train3)\n",
    "# predicted = clf.predict(x_data_test3)\n",
    "# print(\"Accuracy: {:.5f}\".format(accuracy_score(y_data_wind_test3, predicted)))\n",
    "# print(\"Resampled balanced accuracy: {:.5f}\".format(balanced_accuracy_score(y_data_wind_test3, predicted)))\n",
    "run_classification(x_data_train3, y_data_wind_train3,x_data_test3, y_data_wind_test3 )"
   ]
  },
  {
   "cell_type": "code",
   "execution_count": null,
   "metadata": {},
   "outputs": [],
   "source": [
    "# regr = MLPRegressor(alpha=1e-6, hidden_layer_sizes=(100, 20), random_state=1)\n",
    "# regr.fit(x_data_train3, y_data_temperature_train3)\n",
    "# err = abs(regr.predict(x_data_test3) - y_data_temperature_test3)\n",
    "# MAE = round(np.mean(err),2)\n",
    "# RMSE = round(np.sqrt(((err)**2).mean()),2)\n",
    "# print(\"MAE:\", MAE, \"RMSE:\", RMSE)\n",
    "run_regression(x_data_train3, y_data_temperature_train3, x_data_test3,y_data_temperature_test3)"
   ]
  },
  {
   "cell_type": "markdown",
   "metadata": {},
   "source": [
    "# Study issue VII"
   ]
  },
  {
   "cell_type": "code",
   "execution_count": null,
   "metadata": {},
   "outputs": [],
   "source": [
    "data_train, dest_test = get_train_and_test_data('./data', amount_of_days=3, wind_border=8, convert_str_variable_flag=True)\n",
    "x_data_train, y_data_wind_train, y_data_temperature_train = data_train\n",
    "x_data_test, y_data_wind_test, y_data_temperature_test = data_train"
   ]
  },
  {
   "cell_type": "code",
   "execution_count": null,
   "metadata": {},
   "outputs": [],
   "source": [
    "# mlp for combined regression and classification predictions on the abalone dataset\n",
    "from numpy import unique\n",
    "from numpy import argmax\n",
    "from pandas import read_csv\n",
    "from sklearn.metrics import mean_absolute_error\n",
    "from sklearn.metrics import accuracy_score\n",
    "from sklearn.model_selection import train_test_split\n",
    "from sklearn.preprocessing import LabelEncoder\n",
    "from tensorflow.keras import Sequential\n",
    "from tensorflow.keras.models import Model\n",
    "from tensorflow.keras.layers import Input\n",
    "from tensorflow.keras.layers import Dense\n",
    "from tensorflow.keras.utils import plot_model"
   ]
  },
  {
   "cell_type": "code",
   "execution_count": null,
   "metadata": {},
   "outputs": [],
   "source": [
    "# https://machinelearningmastery.com/neural-network-models-for-combined-classification-and-regression/\n",
    "\n",
    "# x_data_train, y_data_wind_train, y_data_temperature_train = data_train\n",
    "\n",
    "visible = Input(shape=(x_data_train.shape[1],))\n",
    "hidden1 = Dense(20, activation='relu', kernel_initializer='he_normal')(visible)\n",
    "hidden2 = Dense(10, activation='relu', kernel_initializer='he_normal')(hidden1)\n",
    "# regression output\n",
    "out_reg = Dense(1, activation='linear')(hidden2)\n",
    "# classification output\n",
    "out_clas = Dense(len(unique(y_data_wind_train)), activation='softmax')(hidden2)\n",
    "# define model\n",
    "model = Model(inputs=visible, outputs=[out_reg, out_clas])\n",
    "# compile the keras model\n",
    "model.compile(loss=['mse','sparse_categorical_crossentropy'], optimizer='adam')"
   ]
  },
  {
   "cell_type": "code",
   "execution_count": null,
   "metadata": {},
   "outputs": [],
   "source": [
    "# fit the keras model on the dataset\n",
    "model.fit(x_data_train, [y_data_temperature_train, y_data_wind_train], epochs=15, batch_size=32, verbose=2)\n",
    "\n",
    "yhat1, yhat2 = model.predict(x_data_test)\n",
    "# calculate error for regression model\n",
    "error = mean_absolute_error(y_data_temperature_test, yhat1)\n",
    "print('MAE: %.3f' % error)\n",
    "# evaluate accuracy for classification model\n",
    "yhat2 = argmax(yhat2, axis=-1).astype('int')\n",
    "acc = accuracy_score(y_data_wind_test, yhat2)\n",
    "print('Accuracy: %.3f' % acc)"
   ]
  }
 ],
 "metadata": {
  "interpreter": {
   "hash": "7812ea015bdcee6f23a998adcdd2ef97c151c0c241b7b7070987d9313e41299d"
  },
  "kernelspec": {
   "display_name": "Python 3.9.8 64-bit",
   "language": "python",
   "name": "python3"
  },
  "language_info": {
   "codemirror_mode": {
    "name": "ipython",
    "version": 3
   },
   "file_extension": ".py",
   "mimetype": "text/x-python",
   "name": "python",
   "nbconvert_exporter": "python",
   "pygments_lexer": "ipython3",
   "version": "3.9.9"
  },
  "orig_nbformat": 4
 },
 "nbformat": 4,
 "nbformat_minor": 2
}
