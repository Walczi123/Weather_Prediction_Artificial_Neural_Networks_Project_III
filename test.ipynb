{
 "cells": [
  {
   "cell_type": "code",
   "execution_count": 83,
   "metadata": {},
   "outputs": [],
   "source": [
    "import numpy as np\n",
    "import pandas as pd\n",
    "from sklearn.neural_network import MLPClassifier\n",
    "from sklearn.neural_network import MLPRegressor\n",
    "from sklearn.metrics import accuracy_score\n",
    "from sklearn.metrics import balanced_accuracy_score\n",
    "\n",
    "from data_processing_functions import *"
   ]
  },
  {
   "cell_type": "markdown",
   "metadata": {},
   "source": [
    "## 1. Read Data"
   ]
  },
  {
   "cell_type": "code",
   "execution_count": 84,
   "metadata": {},
   "outputs": [],
   "source": [
    "data_train, data_test = get_train_and_test_data('./data', amount_of_days=3, wind_border=8, convert_str_variable_flag=True)\n",
    "x_data_train, y_data_wind_train, y_data_temperature_train = data_train\n",
    "x_data_test, y_data_wind_test, y_data_temperature_test = data_test"
   ]
  },
  {
   "cell_type": "code",
   "execution_count": 99,
   "metadata": {},
   "outputs": [],
   "source": [
    "model = Sequential()\n",
    "for layer_size in (128,8):\n",
    "    model.add(Dense(layer_size, activation='relu', kernel_initializer='he_normal'))\n",
    "model.add(Dense(len(np.unique(y_data_wind_train)), activation='softmax'))\n",
    "model.compile(loss=['sparse_categorical_crossentropy'], optimizer='adam')\n"
   ]
  },
  {
   "cell_type": "code",
   "execution_count": 100,
   "metadata": {},
   "outputs": [
    {
     "name": "stdout",
     "output_type": "stream",
     "text": [
      "Epoch 1/5\n",
      "1376/1376 - 1s - loss: 1.0624\n",
      "Epoch 2/5\n",
      "1376/1376 - 0s - loss: 0.4137\n",
      "Epoch 3/5\n",
      "1376/1376 - 0s - loss: 0.4133\n",
      "Epoch 4/5\n",
      "1376/1376 - 0s - loss: 0.4133\n",
      "Epoch 5/5\n",
      "1376/1376 - 0s - loss: 0.4133\n"
     ]
    }
   ],
   "source": [
    "model.fit(x_data_train, y_data_wind_train, epochs=5, batch_size=32, verbose=2)\n",
    "yhat = model.predict(x_data_test)\n",
    "yhat = np.argmax(yhat, axis=-1).astype('int')\n",
    "acc = accuracy_score(y_data_wind_test, yhat)"
   ]
  },
  {
   "cell_type": "code",
   "execution_count": 101,
   "metadata": {},
   "outputs": [
    {
     "data": {
      "text/plain": [
       "0.7496385044412311"
      ]
     },
     "execution_count": 101,
     "metadata": {},
     "output_type": "execute_result"
    }
   ],
   "source": [
    "acc"
   ]
  },
  {
   "cell_type": "markdown",
   "metadata": {},
   "source": [
    "## 2. Wind classification"
   ]
  },
  {
   "cell_type": "code",
   "execution_count": 18,
   "metadata": {},
   "outputs": [],
   "source": [
    "clf = MLPClassifier(alpha=1e-3, hidden_layer_sizes=(500), random_state=1)"
   ]
  },
  {
   "cell_type": "code",
   "execution_count": 20,
   "metadata": {},
   "outputs": [
    {
     "data": {
      "text/plain": [
       "MLPClassifier(alpha=0.001, hidden_layer_sizes=500, random_state=1)"
      ]
     },
     "execution_count": 20,
     "metadata": {},
     "output_type": "execute_result"
    }
   ],
   "source": [
    "clf.fit(x_data_train, y_data_wind_train)"
   ]
  },
  {
   "cell_type": "code",
   "execution_count": 21,
   "metadata": {},
   "outputs": [
    {
     "data": {
      "text/plain": [
       "0.8554036251306046"
      ]
     },
     "execution_count": 21,
     "metadata": {},
     "output_type": "execute_result"
    }
   ],
   "source": [
    "accuracy_score(clf.predict(x_data_test), y_data_wind_test)"
   ]
  },
  {
   "cell_type": "code",
   "execution_count": 11,
   "metadata": {},
   "outputs": [
    {
     "name": "stdout",
     "output_type": "stream",
     "text": [
      "Accuracy: 0.85538\n",
      "Resampled balanced accuracy: 0.50000\n"
     ]
    },
    {
     "name": "stderr",
     "output_type": "stream",
     "text": [
      "C:\\Users\\Patryk\\AppData\\Local\\Programs\\Python\\Python39\\lib\\site-packages\\sklearn\\neural_network\\_multilayer_perceptron.py:692: ConvergenceWarning: Stochastic Optimizer: Maximum iterations (200) reached and the optimization hasn't converged yet.\n",
      "  warnings.warn(\n"
     ]
    }
   ],
   "source": [
    "clf = MLPClassifier(alpha=1e-5, solver='adam', hidden_layer_sizes=(100, 20), random_state=1, n_iter_no_change= 100)\n",
    "clf.fit(x_data_train, y_data_wind_train)\n",
    "predicted = clf.predict(x_data_test)\n",
    "print(\"Accuracy: {:.5f}\".format(accuracy_score(y_data_wind_test, predicted)))\n",
    "print(\"Resampled balanced accuracy: {:.5f}\".format(balanced_accuracy_score(y_data_wind_test, predicted)))"
   ]
  },
  {
   "cell_type": "code",
   "execution_count": 12,
   "metadata": {},
   "outputs": [
    {
     "data": {
      "text/plain": [
       "array([0], dtype=uint8)"
      ]
     },
     "execution_count": 12,
     "metadata": {},
     "output_type": "execute_result"
    }
   ],
   "source": [
    "np.unique(predicted)"
   ]
  },
  {
   "cell_type": "markdown",
   "metadata": {},
   "source": [
    "## 3. Temperature prediction"
   ]
  },
  {
   "cell_type": "code",
   "execution_count": 23,
   "metadata": {},
   "outputs": [],
   "source": [
    "regr = MLPRegressor(solver='lbfgs', alpha=1e-5, hidden_layer_sizes=(100, 20), random_state=1)"
   ]
  },
  {
   "cell_type": "code",
   "execution_count": 24,
   "metadata": {},
   "outputs": [
    {
     "name": "stderr",
     "output_type": "stream",
     "text": [
      "C:\\Users\\Patryk\\AppData\\Local\\Programs\\Python\\Python39\\lib\\site-packages\\sklearn\\neural_network\\_multilayer_perceptron.py:549: ConvergenceWarning: lbfgs failed to converge (status=1):\n",
      "STOP: TOTAL NO. of ITERATIONS REACHED LIMIT.\n",
      "\n",
      "Increase the number of iterations (max_iter) or scale the data as shown in:\n",
      "    https://scikit-learn.org/stable/modules/preprocessing.html\n",
      "  self.n_iter_ = _check_optimize_result(\"lbfgs\", opt_res, self.max_iter)\n"
     ]
    },
    {
     "data": {
      "text/plain": [
       "MLPRegressor(alpha=1e-05, hidden_layer_sizes=(100, 20), random_state=1,\n",
       "             solver='lbfgs')"
      ]
     },
     "execution_count": 24,
     "metadata": {},
     "output_type": "execute_result"
    }
   ],
   "source": [
    "regr.fit(x_data_train, y_data_temperature_train)"
   ]
  },
  {
   "cell_type": "code",
   "execution_count": 25,
   "metadata": {},
   "outputs": [
    {
     "name": "stdout",
     "output_type": "stream",
     "text": [
      "MAE: 5.05 RMSE: 6.92\n"
     ]
    }
   ],
   "source": [
    "err = abs(regr.predict(x_data_test) - y_data_temperature_test)\n",
    "MAE = round(np.mean(err),2)\n",
    "RMSE = round(np.sqrt(((err)**2).mean()),2)\n",
    "print(\"MAE:\", MAE, \"RMSE:\", RMSE)"
   ]
  },
  {
   "cell_type": "code",
   "execution_count": 36,
   "metadata": {},
   "outputs": [
    {
     "name": "stdout",
     "output_type": "stream",
     "text": [
      "MAE: 5.16 RMSE: 6.92\n"
     ]
    }
   ],
   "source": [
    "regr = MLPRegressor(alpha=1e-6, hidden_layer_sizes=(100, 20), random_state=1)\n",
    "regr.fit(x_data_train, y_data_temperature_train)\n",
    "err = abs(regr.predict(x_data_test) - y_data_temperature_test)\n",
    "MAE = round(np.mean(err),2)\n",
    "RMSE = round(np.sqrt(((err)**2).mean()),2)\n",
    "print(\"MAE:\", MAE, \"RMSE:\", RMSE)"
   ]
  },
  {
   "cell_type": "markdown",
   "metadata": {},
   "source": [
    "# Study issue IV"
   ]
  },
  {
   "cell_type": "markdown",
   "metadata": {},
   "source": [
    "### Zastąpienie null średnią"
   ]
  },
  {
   "cell_type": "code",
   "execution_count": 7,
   "metadata": {},
   "outputs": [
    {
     "name": "stderr",
     "output_type": "stream",
     "text": [
      "d:\\Repozytoria\\Weather_Prediction_Artificial_Neural_Networks_Project_III\\data_processing_functions.py:63: FutureWarning: Dropping of nuisance columns in DataFrame reductions (with 'numeric_only=None') is deprecated; in a future version this will raise TypeError.  Select only valid columns before calling the reduction.\n",
      "  df[df[\"datetime\"].str.startswith(date)] = df_tmp.fillna(df_tmp.mean())\n"
     ]
    }
   ],
   "source": [
    "data_train, data_test = get_train_and_test_data('./data', amount_of_days=3, wind_border=8, convert_str_variable_flag=True, remove_nulls = 2)\n",
    "x_data_train, y_data_wind_train, y_data_temperature_train = data_train\n",
    "x_data_test, y_data_wind_test, y_data_temperature_test = data_test"
   ]
  },
  {
   "cell_type": "code",
   "execution_count": 10,
   "metadata": {},
   "outputs": [
    {
     "name": "stdout",
     "output_type": "stream",
     "text": [
      "Accuracy: 0.73477\n",
      "Resampled balanced accuracy: 0.50000\n"
     ]
    }
   ],
   "source": [
    "clf = MLPClassifier(alpha=1e-5, hidden_layer_sizes=(100, 20), random_state=1)\n",
    "clf.fit(x_data_train, y_data_wind_train)\n",
    "predicted = clf.predict(x_data_test)\n",
    "print(\"Accuracy: {:.5f}\".format(accuracy_score(y_data_wind_test, predicted)))\n",
    "print(\"Resampled balanced accuracy: {:.5f}\".format(balanced_accuracy_score(y_data_wind_test, predicted)))"
   ]
  },
  {
   "cell_type": "code",
   "execution_count": 11,
   "metadata": {},
   "outputs": [
    {
     "name": "stdout",
     "output_type": "stream",
     "text": [
      "MAE: 5.05 RMSE: 6.64\n"
     ]
    }
   ],
   "source": [
    "regr = MLPRegressor(alpha=1e-6, hidden_layer_sizes=(100, 20), random_state=1)\n",
    "regr.fit(x_data_train, y_data_temperature_train)\n",
    "err = abs(regr.predict(x_data_test) - y_data_temperature_test)\n",
    "MAE = round(np.mean(err),2)\n",
    "RMSE = round(np.sqrt(((err)**2).mean()),2)\n",
    "print(\"MAE:\", MAE, \"RMSE:\", RMSE)"
   ]
  },
  {
   "cell_type": "markdown",
   "metadata": {},
   "source": [
    "### Zastąpienie null wartościami powyżej i poniżej"
   ]
  },
  {
   "cell_type": "code",
   "execution_count": 11,
   "metadata": {},
   "outputs": [],
   "source": [
    "data_train, data_test = get_train_and_test_data('./data', amount_of_days=3, wind_border=8, convert_str_variable_flag=True, remove_nulls = 3)\n",
    "x_data_train, y_data_wind_train, y_data_temperature_train = data_train\n",
    "x_data_test, y_data_wind_test, y_data_temperature_test = data_test"
   ]
  },
  {
   "cell_type": "code",
   "execution_count": 12,
   "metadata": {},
   "outputs": [
    {
     "name": "stdout",
     "output_type": "stream",
     "text": [
      "Accuracy: 0.73942\n",
      "Resampled balanced accuracy: 0.50000\n"
     ]
    }
   ],
   "source": [
    "clf = MLPClassifier(alpha=1e-5, hidden_layer_sizes=(100, 20), random_state=1)\n",
    "clf.fit(x_data_train, y_data_wind_train)\n",
    "predicted = clf.predict(x_data_test)\n",
    "print(\"Accuracy: {:.5f}\".format(accuracy_score(y_data_wind_test, predicted)))\n",
    "print(\"Resampled balanced accuracy: {:.5f}\".format(balanced_accuracy_score(y_data_wind_test, predicted)))"
   ]
  },
  {
   "cell_type": "code",
   "execution_count": 13,
   "metadata": {},
   "outputs": [
    {
     "name": "stdout",
     "output_type": "stream",
     "text": [
      "MAE: 5.24 RMSE: 6.77\n"
     ]
    }
   ],
   "source": [
    "regr = MLPRegressor(alpha=1e-6, hidden_layer_sizes=(100, 20), random_state=1)\n",
    "regr.fit(x_data_train, y_data_temperature_train)\n",
    "err = abs(regr.predict(x_data_test) - y_data_temperature_test)\n",
    "MAE = round(np.mean(err),2)\n",
    "RMSE = round(np.sqrt(((err)**2).mean()),2)\n",
    "print(\"MAE:\", MAE, \"RMSE:\", RMSE)"
   ]
  },
  {
   "cell_type": "markdown",
   "metadata": {},
   "source": [
    "# Study issue V"
   ]
  },
  {
   "cell_type": "code",
   "execution_count": 4,
   "metadata": {},
   "outputs": [],
   "source": [
    "data_train, dest_test = get_train_and_test_data_with_separate_day('./data', amount_of_days=3, wind_border=8, convert_str_variable_flag=True)\n",
    "x_data_train, y_data_wind_train1, y_data_temperature_train1, y_data_wind_train2, y_data_temperature_train2 = data_train\n",
    "x_data_test, y_data_wind_test1, y_data_temperature_test1, y_data_wind_test2, y_data_temperature_test2 = data_train"
   ]
  },
  {
   "cell_type": "code",
   "execution_count": 28,
   "metadata": {},
   "outputs": [
    {
     "name": "stdout",
     "output_type": "stream",
     "text": [
      "Accuracy: 0.85538\n",
      "Resampled balanced accuracy: 0.50000\n"
     ]
    }
   ],
   "source": [
    "clf1 = MLPClassifier(alpha=1e-5, hidden_layer_sizes=(100, 20), random_state=1)\n",
    "clf2 = MLPClassifier(alpha=1e-5, hidden_layer_sizes=(100, 20), random_state=1)\n",
    "clf1.fit(x_data_train, y_data_wind_train1)\n",
    "predicted1 = clf1.predict(x_data_train)\n",
    "clf2.fit(predicted1.reshape(-1, 1), y_data_wind_train2)\n",
    "\n",
    "predicted2 = clf1.predict(x_data_test)\n",
    "predicted = clf2.predict(predicted2.reshape(-1, 1))\n",
    "print(\"Accuracy: {:.5f}\".format(accuracy_score(y_data_wind_test2, predicted)))\n",
    "print(\"Resampled balanced accuracy: {:.5f}\".format(balanced_accuracy_score(y_data_wind_test2, predicted)))"
   ]
  },
  {
   "cell_type": "code",
   "execution_count": 27,
   "metadata": {},
   "outputs": [
    {
     "name": "stdout",
     "output_type": "stream",
     "text": [
      "MAE: 3.64 RMSE: 5.54\n"
     ]
    }
   ],
   "source": [
    "regr1 = MLPRegressor(alpha=1e-6, hidden_layer_sizes=(100, 20), random_state=1)\n",
    "regr2 = MLPRegressor(alpha=1e-6, hidden_layer_sizes=(100, 20), random_state=1)\n",
    "regr1.fit(x_data_train, y_data_temperature_train1)\n",
    "prediced1 = regr1.predict(x_data_train)\n",
    "regr2.fit(prediced1.reshape(-1, 1), y_data_temperature_train2)\n",
    "\n",
    "prediced2 = regr1.predict(x_data_test)\n",
    "err = abs(regr2.predict(prediced2.reshape(-1, 1)) - y_data_temperature_test2)\n",
    "MAE = round(np.mean(err),2)\n",
    "RMSE = round(np.sqrt(((err)**2).mean()),2)\n",
    "print(\"MAE:\", MAE, \"RMSE:\", RMSE)"
   ]
  },
  {
   "cell_type": "markdown",
   "metadata": {},
   "source": [
    "Można jeszcze sprawdzić wyniki jakby uczyć go na podstawie prawdziwych danych a nie predykcji"
   ]
  },
  {
   "cell_type": "markdown",
   "metadata": {},
   "source": [
    "# Study issue VI"
   ]
  },
  {
   "cell_type": "code",
   "execution_count": 2,
   "metadata": {},
   "outputs": [],
   "source": [
    "# Dlugo liczy\n",
    "data_by_seasons = get_train_and_test_data_by_season('./data', amount_of_days=3, wind_border=8, convert_str_variable_flag=True)"
   ]
  },
  {
   "cell_type": "code",
   "execution_count": 5,
   "metadata": {},
   "outputs": [],
   "source": [
    "data_train0, data_train0 = data_by_seasons[0]\n",
    "x_data_train0, y_data_wind_train0, y_data_temperature_train0 = data_train0\n",
    "x_data_test0, y_data_wind_test0, y_data_temperature_test0 = data_train0\n",
    "\n",
    "data_train1, data_train1 = data_by_seasons[1]\n",
    "x_data_train1, y_data_wind_train1, y_data_temperature_train1 = data_train1\n",
    "x_data_test1, y_data_wind_test1, y_data_temperature_test1 = data_train1\n",
    "\n",
    "data_train2, data_train2 = data_by_seasons[2]\n",
    "x_data_train2, y_data_wind_train2, y_data_temperature_train2 = data_train2\n",
    "x_data_test2, y_data_wind_test2, y_data_temperature_test2 = data_train2\n",
    "\n",
    "data_train3, data_train3 = data_by_seasons[3]\n",
    "x_data_train3, y_data_wind_train3, y_data_temperature_train3 = data_train3\n",
    "x_data_test3, y_data_wind_test3, y_data_temperature_test3 = data_train3"
   ]
  },
  {
   "cell_type": "markdown",
   "metadata": {},
   "source": [
    "### Spring"
   ]
  },
  {
   "cell_type": "code",
   "execution_count": 11,
   "metadata": {},
   "outputs": [
    {
     "name": "stdout",
     "output_type": "stream",
     "text": [
      "Accuracy: 0.33882\n",
      "Resampled balanced accuracy: 0.53363\n"
     ]
    }
   ],
   "source": [
    "clf = MLPClassifier(alpha=1e-5, hidden_layer_sizes=(100, 20), random_state=1)\n",
    "clf.fit(x_data_train0, y_data_wind_train0)\n",
    "predicted = clf.predict(x_data_test0)\n",
    "print(\"Accuracy: {:.5f}\".format(accuracy_score(y_data_wind_test0, predicted)))\n",
    "print(\"Resampled balanced accuracy: {:.5f}\".format(balanced_accuracy_score(y_data_wind_test0, predicted)))"
   ]
  },
  {
   "cell_type": "code",
   "execution_count": 12,
   "metadata": {},
   "outputs": [
    {
     "name": "stdout",
     "output_type": "stream",
     "text": [
      "MAE: 4.2 RMSE: 6.03\n"
     ]
    }
   ],
   "source": [
    "regr = MLPRegressor(alpha=1e-6, hidden_layer_sizes=(100, 20), random_state=1)\n",
    "regr.fit(x_data_train0, y_data_temperature_train0)\n",
    "err = abs(regr.predict(x_data_test0) - y_data_temperature_test0)\n",
    "MAE = round(np.mean(err),2)\n",
    "RMSE = round(np.sqrt(((err)**2).mean()),2)\n",
    "print(\"MAE:\", MAE, \"RMSE:\", RMSE)"
   ]
  },
  {
   "cell_type": "markdown",
   "metadata": {},
   "source": [
    "### Summer"
   ]
  },
  {
   "cell_type": "code",
   "execution_count": 13,
   "metadata": {},
   "outputs": [
    {
     "name": "stdout",
     "output_type": "stream",
     "text": [
      "Accuracy: 0.78888\n",
      "Resampled balanced accuracy: 0.59835\n"
     ]
    }
   ],
   "source": [
    "clf = MLPClassifier(alpha=1e-5, hidden_layer_sizes=(100, 20), random_state=1)\n",
    "clf.fit(x_data_train1, y_data_wind_train1)\n",
    "predicted = clf.predict(x_data_test1)\n",
    "print(\"Accuracy: {:.5f}\".format(accuracy_score(y_data_wind_test1, predicted)))\n",
    "print(\"Resampled balanced accuracy: {:.5f}\".format(balanced_accuracy_score(y_data_wind_test1, predicted)))"
   ]
  },
  {
   "cell_type": "code",
   "execution_count": 14,
   "metadata": {},
   "outputs": [
    {
     "name": "stdout",
     "output_type": "stream",
     "text": [
      "MAE: 5.15 RMSE: 7.05\n"
     ]
    }
   ],
   "source": [
    "regr = MLPRegressor(alpha=1e-6, hidden_layer_sizes=(100, 20), random_state=1)\n",
    "regr.fit(x_data_train1, y_data_temperature_train1)\n",
    "err = abs(regr.predict(x_data_test1) - y_data_temperature_test1)\n",
    "MAE = round(np.mean(err),2)\n",
    "RMSE = round(np.sqrt(((err)**2).mean()),2)\n",
    "print(\"MAE:\", MAE, \"RMSE:\", RMSE)"
   ]
  },
  {
   "cell_type": "markdown",
   "metadata": {},
   "source": [
    "### Fall"
   ]
  },
  {
   "cell_type": "code",
   "execution_count": 16,
   "metadata": {},
   "outputs": [
    {
     "name": "stdout",
     "output_type": "stream",
     "text": [
      "Accuracy: 0.77613\n",
      "Resampled balanced accuracy: 0.50000\n"
     ]
    }
   ],
   "source": [
    "clf = MLPClassifier(alpha=1e-5, hidden_layer_sizes=(100, 20), random_state=1)\n",
    "clf.fit(x_data_train2, y_data_wind_train2)\n",
    "predicted = clf.predict(x_data_test2)\n",
    "print(\"Accuracy: {:.5f}\".format(accuracy_score(y_data_wind_test2, predicted)))\n",
    "print(\"Resampled balanced accuracy: {:.5f}\".format(balanced_accuracy_score(y_data_wind_test2, predicted)))"
   ]
  },
  {
   "cell_type": "code",
   "execution_count": 17,
   "metadata": {},
   "outputs": [
    {
     "name": "stdout",
     "output_type": "stream",
     "text": [
      "MAE: 4.24 RMSE: 5.83\n"
     ]
    },
    {
     "name": "stderr",
     "output_type": "stream",
     "text": [
      "C:\\Users\\Patryk\\AppData\\Local\\Programs\\Python\\Python39\\lib\\site-packages\\sklearn\\neural_network\\_multilayer_perceptron.py:692: ConvergenceWarning: Stochastic Optimizer: Maximum iterations (200) reached and the optimization hasn't converged yet.\n",
      "  warnings.warn(\n"
     ]
    }
   ],
   "source": [
    "regr = MLPRegressor(alpha=1e-6, hidden_layer_sizes=(100, 20), random_state=1)\n",
    "regr.fit(x_data_train2, y_data_temperature_train2)\n",
    "err = abs(regr.predict(x_data_test2) - y_data_temperature_test2)\n",
    "MAE = round(np.mean(err),2)\n",
    "RMSE = round(np.sqrt(((err)**2).mean()),2)\n",
    "print(\"MAE:\", MAE, \"RMSE:\", RMSE)"
   ]
  },
  {
   "cell_type": "markdown",
   "metadata": {},
   "source": [
    "### Winter"
   ]
  },
  {
   "cell_type": "code",
   "execution_count": 18,
   "metadata": {},
   "outputs": [
    {
     "name": "stdout",
     "output_type": "stream",
     "text": [
      "Accuracy: 0.73451\n",
      "Resampled balanced accuracy: 0.52134\n"
     ]
    }
   ],
   "source": [
    "clf = MLPClassifier(alpha=1e-5, hidden_layer_sizes=(100, 20), random_state=1)\n",
    "clf.fit(x_data_train3, y_data_wind_train3)\n",
    "predicted = clf.predict(x_data_test3)\n",
    "print(\"Accuracy: {:.5f}\".format(accuracy_score(y_data_wind_test3, predicted)))\n",
    "print(\"Resampled balanced accuracy: {:.5f}\".format(balanced_accuracy_score(y_data_wind_test3, predicted)))"
   ]
  },
  {
   "cell_type": "code",
   "execution_count": 19,
   "metadata": {},
   "outputs": [
    {
     "name": "stdout",
     "output_type": "stream",
     "text": [
      "MAE: 3.78 RMSE: 4.84\n"
     ]
    }
   ],
   "source": [
    "regr = MLPRegressor(alpha=1e-6, hidden_layer_sizes=(100, 20), random_state=1)\n",
    "regr.fit(x_data_train3, y_data_temperature_train3)\n",
    "err = abs(regr.predict(x_data_test3) - y_data_temperature_test3)\n",
    "MAE = round(np.mean(err),2)\n",
    "RMSE = round(np.sqrt(((err)**2).mean()),2)\n",
    "print(\"MAE:\", MAE, \"RMSE:\", RMSE)"
   ]
  },
  {
   "cell_type": "markdown",
   "metadata": {},
   "source": [
    "# Study issue VII\n"
   ]
  },
  {
   "cell_type": "code",
   "execution_count": null,
   "metadata": {},
   "outputs": [],
   "source": [
    "data_train, dest_test = get_train_and_test_data('./data', amount_of_days=3, wind_border=8, convert_str_variable_flag=True)\n",
    "x_data_train, y_data_wind_train, y_data_temperature_train = data_train\n",
    "x_data_test, y_data_wind_test, y_data_temperature_test = data_train"
   ]
  },
  {
   "cell_type": "code",
   "execution_count": 20,
   "metadata": {},
   "outputs": [],
   "source": [
    "# mlp for combined regression and classification predictions on the abalone dataset\n",
    "from numpy import unique\n",
    "from numpy import argmax\n",
    "from pandas import read_csv\n",
    "from sklearn.metrics import mean_absolute_error\n",
    "from sklearn.metrics import accuracy_score\n",
    "from sklearn.model_selection import train_test_split\n",
    "from sklearn.preprocessing import LabelEncoder\n",
    "from tensorflow.keras import Sequential\n",
    "from tensorflow.keras.models import Model\n",
    "from tensorflow.keras.layers import Input\n",
    "from tensorflow.keras.layers import Dense\n",
    "from tensorflow.keras.utils import plot_model"
   ]
  },
  {
   "cell_type": "code",
   "execution_count": 32,
   "metadata": {},
   "outputs": [],
   "source": [
    "# https://machinelearningmastery.com/neural-network-models-for-combined-classification-and-regression/\n",
    "\n",
    "# x_data_train, y_data_wind_train, y_data_temperature_train = data_train\n",
    "\n",
    "visible = Input(shape=(x_data_train.shape[1],))\n",
    "hidden1 = Dense(20, activation='relu', kernel_initializer='he_normal')(visible)\n",
    "hidden2 = Dense(10, activation='relu', kernel_initializer='he_normal')(hidden1)\n",
    "# regression output\n",
    "out_reg = Dense(1, activation='linear')(hidden2)\n",
    "# classification output\n",
    "out_clas = Dense(len(unique(y_data_wind_train)), activation='softmax')(hidden2)\n",
    "# define model\n",
    "model = Model(inputs=visible, outputs=[out_reg, out_clas])\n",
    "# compile the keras model\n",
    "model.compile(loss=['mse','sparse_categorical_crossentropy'], optimizer='adam')"
   ]
  },
  {
   "cell_type": "code",
   "execution_count": 33,
   "metadata": {},
   "outputs": [
    {
     "name": "stdout",
     "output_type": "stream",
     "text": [
      "Epoch 1/15\n",
      "1376/1376 - 1s - loss: 1295.9841 - dense_6_loss: 1283.7991 - dense_7_loss: 12.1849\n",
      "Epoch 2/15\n",
      "1376/1376 - 0s - loss: 64.6328 - dense_6_loss: 64.2048 - dense_7_loss: 0.4280\n",
      "Epoch 3/15\n",
      "1376/1376 - 0s - loss: 59.1674 - dense_6_loss: 58.7390 - dense_7_loss: 0.4284\n",
      "Epoch 4/15\n",
      "1376/1376 - 0s - loss: 57.6984 - dense_6_loss: 57.2666 - dense_7_loss: 0.4319\n",
      "Epoch 5/15\n",
      "1376/1376 - 0s - loss: 56.2536 - dense_6_loss: 55.8244 - dense_7_loss: 0.4292\n",
      "Epoch 6/15\n",
      "1376/1376 - 0s - loss: 55.4888 - dense_6_loss: 55.0570 - dense_7_loss: 0.4318\n",
      "Epoch 7/15\n",
      "1376/1376 - 0s - loss: 55.8640 - dense_6_loss: 55.4351 - dense_7_loss: 0.4288\n",
      "Epoch 8/15\n",
      "1376/1376 - 0s - loss: 54.6507 - dense_6_loss: 54.2221 - dense_7_loss: 0.4287\n",
      "Epoch 9/15\n",
      "1376/1376 - 0s - loss: 54.3652 - dense_6_loss: 53.9368 - dense_7_loss: 0.4284\n",
      "Epoch 10/15\n",
      "1376/1376 - 0s - loss: 53.4865 - dense_6_loss: 53.0545 - dense_7_loss: 0.4320\n",
      "Epoch 11/15\n",
      "1376/1376 - 0s - loss: 53.4612 - dense_6_loss: 53.0262 - dense_7_loss: 0.4349\n",
      "Epoch 12/15\n",
      "1376/1376 - 0s - loss: 53.2278 - dense_6_loss: 52.7976 - dense_7_loss: 0.4301\n",
      "Epoch 13/15\n",
      "1376/1376 - 0s - loss: 53.4255 - dense_6_loss: 52.9952 - dense_7_loss: 0.4303\n",
      "Epoch 14/15\n",
      "1376/1376 - 0s - loss: 53.6920 - dense_6_loss: 53.2632 - dense_7_loss: 0.4288\n",
      "Epoch 15/15\n",
      "1376/1376 - 0s - loss: 52.6636 - dense_6_loss: 52.2373 - dense_7_loss: 0.4263\n"
     ]
    },
    {
     "data": {
      "text/plain": [
       "<keras.callbacks.History at 0x24a12c6c3a0>"
      ]
     },
     "execution_count": 33,
     "metadata": {},
     "output_type": "execute_result"
    }
   ],
   "source": [
    "# fit the keras model on the dataset\n",
    "model.fit(x_data_train, [y_data_temperature_train, y_data_wind_train], epochs=15, batch_size=32, verbose=2)"
   ]
  }
 ],
 "metadata": {
  "interpreter": {
   "hash": "aee8b7b246df8f9039afb4144a1f6fd8d2ca17a180786b69acc140d282b71a49"
  },
  "kernelspec": {
   "display_name": "Python 3.8.7 64-bit",
   "language": "python",
   "name": "python3"
  },
  "language_info": {
   "codemirror_mode": {
    "name": "ipython",
    "version": 3
   },
   "file_extension": ".py",
   "mimetype": "text/x-python",
   "name": "python",
   "nbconvert_exporter": "python",
   "pygments_lexer": "ipython3",
   "version": "3.9.7"
  },
  "orig_nbformat": 4
 },
 "nbformat": 4,
 "nbformat_minor": 2
}
