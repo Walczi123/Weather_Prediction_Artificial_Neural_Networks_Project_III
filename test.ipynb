{
 "cells": [
  {
   "cell_type": "code",
   "execution_count": 1,
   "metadata": {},
   "outputs": [],
   "source": [
    "import numpy as np\n",
    "import pandas as pd\n",
    "\n",
    "from data_processing_functions import get_train_data, get_test_data, get_train_and_test_data, convert_str_variable"
   ]
  },
  {
   "cell_type": "markdown",
   "metadata": {},
   "source": [
    "## 1. Read Data"
   ]
  },
  {
   "cell_type": "code",
   "execution_count": 2,
   "metadata": {},
   "outputs": [
    {
     "name": "stdout",
     "output_type": "stream",
     "text": [
      "convert_str_variable_flag\n",
      "3\n",
      "columns ['city', 'weather_description_day1', 'weather_description_day2', 'weather_description_day3']\n",
      "dicts [{'Albuquerque': 0, 'Atlanta': 1, 'Beersheba': 2, 'Boston': 3, 'Charlotte': 4, 'Chicago': 5, 'Dallas': 6, 'Denver': 7, 'Detroit': 8, 'Eilat': 9, 'Haifa': 10, 'Houston': 11, 'Indianapolis': 12, 'Jacksonville': 13, 'Jerusalem': 14, 'Kansas City': 15, 'Las Vegas': 16, 'Los Angeles': 17, 'Miami': 18, 'Minneapolis': 19, 'Montreal': 20, 'Nahariyya': 21, 'Nashville': 22, 'New York': 23, 'Philadelphia': 24, 'Phoenix': 25, 'Pittsburgh': 26, 'Portland': 27, 'Saint Louis': 28, 'San Antonio': 29, 'San Diego': 30, 'San Francisco': 31, 'Seattle': 32, 'Tel Aviv District': 33, 'Toronto': 34, 'Vancouver': 35}, {'broken clouds': 0, 'drizzle': 1, 'dust': 2, 'few clouds': 3, 'fog': 4, 'freezing rain': 5, 'haze': 6, 'heavy intensity rain': 7, 'heavy shower snow': 8, 'heavy snow': 9, 'light intensity drizzle': 10, 'light intensity shower rain': 11, 'light rain': 12, 'light rain and snow': 13, 'light shower snow': 14, 'light snow': 15, 'mist': 16, 'moderate rain': 17, 'overcast clouds': 18, 'proximity shower rain': 19, 'proximity thunderstorm': 20, 'scattered clouds': 21, 'sky is clear': 22, 'smoke': 23, 'snow': 24, 'squalls': 25, 'thunderstorm': 26, 'thunderstorm with heavy rain': 27, 'thunderstorm with light rain': 28, 'very heavy rain': 29}, {'broken clouds': 0, 'drizzle': 1, 'dust': 2, 'few clouds': 3, 'fog': 4, 'freezing rain': 5, 'haze': 6, 'heavy intensity rain': 7, 'heavy shower snow': 8, 'heavy snow': 9, 'light intensity drizzle': 10, 'light intensity shower rain': 11, 'light rain': 12, 'light rain and snow': 13, 'light shower snow': 14, 'light snow': 15, 'mist': 16, 'moderate rain': 17, 'overcast clouds': 18, 'proximity shower rain': 19, 'proximity thunderstorm': 20, 'scattered clouds': 21, 'sky is clear': 22, 'smoke': 23, 'snow': 24, 'thunderstorm': 25, 'thunderstorm with heavy rain': 26, 'thunderstorm with light rain': 27, 'very heavy rain': 28}, {'broken clouds': 0, 'drizzle': 1, 'dust': 2, 'few clouds': 3, 'fog': 4, 'freezing rain': 5, 'haze': 6, 'heavy intensity rain': 7, 'heavy shower snow': 8, 'heavy snow': 9, 'light intensity drizzle': 10, 'light intensity shower rain': 11, 'light rain': 12, 'light rain and snow': 13, 'light shower snow': 14, 'light snow': 15, 'mist': 16, 'moderate rain': 17, 'overcast clouds': 18, 'proximity shower rain': 19, 'proximity thunderstorm': 20, 'scattered clouds': 21, 'sky is clear': 22, 'smoke': 23, 'snow': 24, 'thunderstorm': 25, 'thunderstorm with heavy rain': 26, 'very heavy rain': 27}]\n"
     ]
    },
    {
     "ename": "KeyError",
     "evalue": "'thunderstorm with light rain'",
     "output_type": "error",
     "traceback": [
      "\u001b[1;31m---------------------------------------------------------------------------\u001b[0m",
      "\u001b[1;31mKeyError\u001b[0m                                  Traceback (most recent call last)",
      "\u001b[1;32m~\\AppData\\Local\\Temp/ipykernel_15120/3562442814.py\u001b[0m in \u001b[0;36m<module>\u001b[1;34m\u001b[0m\n\u001b[1;32m----> 1\u001b[1;33m \u001b[0mdata_train\u001b[0m\u001b[1;33m,\u001b[0m \u001b[0mdest_test\u001b[0m \u001b[1;33m=\u001b[0m \u001b[0mget_train_and_test_data\u001b[0m\u001b[1;33m(\u001b[0m\u001b[1;34m'./data'\u001b[0m\u001b[1;33m,\u001b[0m \u001b[0mamount_of_days\u001b[0m\u001b[1;33m=\u001b[0m\u001b[1;36m3\u001b[0m\u001b[1;33m,\u001b[0m \u001b[0mwind_border\u001b[0m\u001b[1;33m=\u001b[0m\u001b[1;36m8\u001b[0m\u001b[1;33m,\u001b[0m \u001b[0mconvert_str_variable_flag\u001b[0m\u001b[1;33m=\u001b[0m\u001b[1;32mTrue\u001b[0m\u001b[1;33m)\u001b[0m\u001b[1;33m\u001b[0m\u001b[1;33m\u001b[0m\u001b[0m\n\u001b[0m\u001b[0;32m      2\u001b[0m \u001b[0mx_data_train\u001b[0m\u001b[1;33m,\u001b[0m \u001b[0my_data_wind_train\u001b[0m\u001b[1;33m,\u001b[0m \u001b[0my_data_temperature_train\u001b[0m \u001b[1;33m=\u001b[0m \u001b[0mdata_train\u001b[0m\u001b[1;33m\u001b[0m\u001b[1;33m\u001b[0m\u001b[0m\n\u001b[0;32m      3\u001b[0m \u001b[0mx_data_test\u001b[0m\u001b[1;33m,\u001b[0m \u001b[0my_data_wind_test\u001b[0m\u001b[1;33m,\u001b[0m \u001b[0my_data_temperature_test\u001b[0m \u001b[1;33m=\u001b[0m \u001b[0mdata_train\u001b[0m\u001b[1;33m\u001b[0m\u001b[1;33m\u001b[0m\u001b[0m\n",
      "\u001b[1;32md:\\Repozytoria\\Weather_Prediction_Artificial_Neural_Networks_Project_III\\data_processing_functions.py\u001b[0m in \u001b[0;36mget_train_and_test_data\u001b[1;34m(data_path, amount_of_days, wind_border, convert_str_variable_flag)\u001b[0m\n\u001b[0;32m    226\u001b[0m     \u001b[0mprint\u001b[0m\u001b[1;33m(\u001b[0m\u001b[1;34m'columns'\u001b[0m\u001b[1;33m,\u001b[0m \u001b[0mcolumns\u001b[0m\u001b[1;33m)\u001b[0m\u001b[1;33m\u001b[0m\u001b[1;33m\u001b[0m\u001b[0m\n\u001b[0;32m    227\u001b[0m     \u001b[0mprint\u001b[0m\u001b[1;33m(\u001b[0m\u001b[1;34m'dicts'\u001b[0m\u001b[1;33m,\u001b[0m \u001b[0mdicts\u001b[0m\u001b[1;33m)\u001b[0m\u001b[1;33m\u001b[0m\u001b[1;33m\u001b[0m\u001b[0m\n\u001b[1;32m--> 228\u001b[1;33m     \u001b[0mx_data_test\u001b[0m \u001b[1;33m=\u001b[0m \u001b[0mconvert_str_variable\u001b[0m\u001b[1;33m(\u001b[0m\u001b[0mx_data_test\u001b[0m\u001b[1;33m,\u001b[0m \u001b[0mamount_of_days\u001b[0m\u001b[1;33m,\u001b[0m \u001b[0mcolumns\u001b[0m\u001b[1;33m=\u001b[0m\u001b[0mcolumns\u001b[0m\u001b[1;33m,\u001b[0m \u001b[0mdicts\u001b[0m\u001b[1;33m=\u001b[0m\u001b[0mdicts\u001b[0m\u001b[1;33m)\u001b[0m\u001b[1;33m[\u001b[0m\u001b[1;36m0\u001b[0m\u001b[1;33m]\u001b[0m\u001b[1;33m\u001b[0m\u001b[1;33m\u001b[0m\u001b[0m\n\u001b[0m\u001b[0;32m    229\u001b[0m \u001b[1;33m\u001b[0m\u001b[0m\n\u001b[0;32m    230\u001b[0m   \u001b[1;32mreturn\u001b[0m \u001b[1;33m(\u001b[0m\u001b[1;33m(\u001b[0m\u001b[0mx_data_train\u001b[0m\u001b[1;33m,\u001b[0m \u001b[0my_data_wind_train\u001b[0m\u001b[1;33m,\u001b[0m \u001b[0my_data_temperature_train\u001b[0m\u001b[1;33m)\u001b[0m\u001b[1;33m,\u001b[0m \u001b[1;33m(\u001b[0m\u001b[0mx_data_test\u001b[0m\u001b[1;33m,\u001b[0m \u001b[0my_data_wind_test\u001b[0m\u001b[1;33m,\u001b[0m \u001b[0my_data_temperature_test\u001b[0m\u001b[1;33m)\u001b[0m\u001b[1;33m)\u001b[0m\u001b[1;33m\u001b[0m\u001b[1;33m\u001b[0m\u001b[0m\n",
      "\u001b[1;32md:\\Repozytoria\\Weather_Prediction_Artificial_Neural_Networks_Project_III\\data_processing_functions.py\u001b[0m in \u001b[0;36mconvert_str_variable\u001b[1;34m(data, amount_of_days, columns, dicts, drop)\u001b[0m\n\u001b[0;32m    169\u001b[0m   \u001b[1;32melse\u001b[0m\u001b[1;33m:\u001b[0m\u001b[1;33m\u001b[0m\u001b[1;33m\u001b[0m\u001b[0m\n\u001b[0;32m    170\u001b[0m     \u001b[1;32mfor\u001b[0m \u001b[0mi\u001b[0m \u001b[1;32min\u001b[0m \u001b[0mrange\u001b[0m\u001b[1;33m(\u001b[0m\u001b[0mlen\u001b[0m\u001b[1;33m(\u001b[0m\u001b[0mcolumns\u001b[0m\u001b[1;33m)\u001b[0m\u001b[1;33m)\u001b[0m\u001b[1;33m:\u001b[0m\u001b[1;33m\u001b[0m\u001b[1;33m\u001b[0m\u001b[0m\n\u001b[1;32m--> 171\u001b[1;33m       \u001b[0mdata\u001b[0m\u001b[1;33m,\u001b[0m \u001b[0md\u001b[0m \u001b[1;33m=\u001b[0m \u001b[0mmy_convert_str_variable\u001b[0m\u001b[1;33m(\u001b[0m\u001b[0mdata\u001b[0m\u001b[1;33m,\u001b[0m \u001b[0mcolumns\u001b[0m\u001b[1;33m[\u001b[0m\u001b[0mi\u001b[0m\u001b[1;33m]\u001b[0m\u001b[1;33m,\u001b[0m \u001b[0mrename_dict\u001b[0m\u001b[1;33m=\u001b[0m\u001b[0mdicts\u001b[0m\u001b[1;33m[\u001b[0m\u001b[0mi\u001b[0m\u001b[1;33m]\u001b[0m\u001b[1;33m)\u001b[0m\u001b[1;33m\u001b[0m\u001b[1;33m\u001b[0m\u001b[0m\n\u001b[0m\u001b[0;32m    172\u001b[0m \u001b[1;33m\u001b[0m\u001b[0m\n\u001b[0;32m    173\u001b[0m   \u001b[1;32mreturn\u001b[0m \u001b[0mdata\u001b[0m\u001b[1;33m,\u001b[0m \u001b[0mcolumns\u001b[0m\u001b[1;33m,\u001b[0m \u001b[0mdicts\u001b[0m\u001b[1;33m\u001b[0m\u001b[1;33m\u001b[0m\u001b[0m\n",
      "\u001b[1;32md:\\Repozytoria\\Weather_Prediction_Artificial_Neural_Networks_Project_III\\data_processing_functions.py\u001b[0m in \u001b[0;36mmy_convert_str_variable\u001b[1;34m(data, str_vaiable, rename_dict, drop)\u001b[0m\n\u001b[0;32m    149\u001b[0m   \u001b[0mconverted\u001b[0m \u001b[1;33m=\u001b[0m \u001b[1;33m[\u001b[0m\u001b[1;33m]\u001b[0m\u001b[1;33m\u001b[0m\u001b[1;33m\u001b[0m\u001b[0m\n\u001b[0;32m    150\u001b[0m   \u001b[1;32mfor\u001b[0m \u001b[0md\u001b[0m \u001b[1;32min\u001b[0m \u001b[0mdata\u001b[0m\u001b[1;33m[\u001b[0m\u001b[0mstr_vaiable\u001b[0m\u001b[1;33m]\u001b[0m\u001b[1;33m:\u001b[0m\u001b[1;33m\u001b[0m\u001b[1;33m\u001b[0m\u001b[0m\n\u001b[1;32m--> 151\u001b[1;33m       \u001b[0mconverted\u001b[0m\u001b[1;33m.\u001b[0m\u001b[0mappend\u001b[0m\u001b[1;33m(\u001b[0m\u001b[0mrename_dict\u001b[0m\u001b[1;33m[\u001b[0m\u001b[0md\u001b[0m\u001b[1;33m]\u001b[0m\u001b[1;33m)\u001b[0m\u001b[1;33m\u001b[0m\u001b[1;33m\u001b[0m\u001b[0m\n\u001b[0m\u001b[0;32m    152\u001b[0m   \u001b[0mdata\u001b[0m\u001b[1;33m.\u001b[0m\u001b[0minsert\u001b[0m\u001b[1;33m(\u001b[0m\u001b[0mdata\u001b[0m\u001b[1;33m.\u001b[0m\u001b[0mcolumns\u001b[0m\u001b[1;33m.\u001b[0m\u001b[0mget_loc\u001b[0m\u001b[1;33m(\u001b[0m\u001b[0mstr_vaiable\u001b[0m\u001b[1;33m)\u001b[0m\u001b[1;33m,\u001b[0m \u001b[1;34mf'converted {str_vaiable}'\u001b[0m\u001b[1;33m,\u001b[0m \u001b[0mconverted\u001b[0m\u001b[1;33m,\u001b[0m \u001b[1;32mTrue\u001b[0m\u001b[1;33m)\u001b[0m\u001b[1;33m\u001b[0m\u001b[1;33m\u001b[0m\u001b[0m\n\u001b[0;32m    153\u001b[0m \u001b[1;33m\u001b[0m\u001b[0m\n",
      "\u001b[1;31mKeyError\u001b[0m: 'thunderstorm with light rain'"
     ]
    }
   ],
   "source": [
    "data_train, dest_test = get_train_and_test_data('./data', amount_of_days=3, wind_border=8, convert_str_variable_flag=True)\n",
    "x_data_train, y_data_wind_train, y_data_temperature_train = data_train\n",
    "x_data_test, y_data_wind_test, y_data_temperature_test = data_train"
   ]
  },
  {
   "cell_type": "code",
   "execution_count": 3,
   "metadata": {},
   "outputs": [],
   "source": [
    "data_train, dest_test = get_train_and_test_data('./data', amount_of_days=3, wind_border=8, convert_str_variable_flag=False)\n",
    "x_data_train, y_data_wind_train, y_data_temperature_train = data_train\n",
    "x_data_test, y_data_wind_test, y_data_temperature_test = data_train"
   ]
  },
  {
   "cell_type": "code",
   "execution_count": 6,
   "metadata": {},
   "outputs": [
    {
     "name": "stdout",
     "output_type": "stream",
     "text": [
      "columns ['city', 'weather_description_day1', 'weather_description_day2', 'weather_description_day3']\n",
      "dicts [{'Albuquerque': 0, 'Atlanta': 1, 'Beersheba': 2, 'Boston': 3, 'Charlotte': 4, 'Chicago': 5, 'Dallas': 6, 'Denver': 7, 'Detroit': 8, 'Eilat': 9, 'Haifa': 10, 'Houston': 11, 'Indianapolis': 12, 'Jacksonville': 13, 'Jerusalem': 14, 'Kansas City': 15, 'Las Vegas': 16, 'Los Angeles': 17, 'Miami': 18, 'Minneapolis': 19, 'Montreal': 20, 'Nahariyya': 21, 'Nashville': 22, 'New York': 23, 'Philadelphia': 24, 'Phoenix': 25, 'Pittsburgh': 26, 'Portland': 27, 'Saint Louis': 28, 'San Antonio': 29, 'San Diego': 30, 'San Francisco': 31, 'Seattle': 32, 'Tel Aviv District': 33, 'Toronto': 34, 'Vancouver': 35}, {'broken clouds': 0, 'drizzle': 1, 'dust': 2, 'few clouds': 3, 'fog': 4, 'freezing rain': 5, 'haze': 6, 'heavy intensity rain': 7, 'heavy shower snow': 8, 'heavy snow': 9, 'light intensity drizzle': 10, 'light intensity shower rain': 11, 'light rain': 12, 'light rain and snow': 13, 'light shower snow': 14, 'light snow': 15, 'mist': 16, 'moderate rain': 17, 'overcast clouds': 18, 'proximity shower rain': 19, 'proximity thunderstorm': 20, 'scattered clouds': 21, 'sky is clear': 22, 'smoke': 23, 'snow': 24, 'squalls': 25, 'thunderstorm': 26, 'thunderstorm with heavy rain': 27, 'thunderstorm with light rain': 28, 'very heavy rain': 29}, {'broken clouds': 0, 'drizzle': 1, 'dust': 2, 'few clouds': 3, 'fog': 4, 'freezing rain': 5, 'haze': 6, 'heavy intensity rain': 7, 'heavy shower snow': 8, 'heavy snow': 9, 'light intensity drizzle': 10, 'light intensity shower rain': 11, 'light rain': 12, 'light rain and snow': 13, 'light shower snow': 14, 'light snow': 15, 'mist': 16, 'moderate rain': 17, 'overcast clouds': 18, 'proximity shower rain': 19, 'proximity thunderstorm': 20, 'scattered clouds': 21, 'sky is clear': 22, 'smoke': 23, 'snow': 24, 'thunderstorm': 25, 'thunderstorm with heavy rain': 26, 'thunderstorm with light rain': 27, 'very heavy rain': 28}, {'broken clouds': 0, 'drizzle': 1, 'dust': 2, 'few clouds': 3, 'fog': 4, 'freezing rain': 5, 'haze': 6, 'heavy intensity rain': 7, 'heavy shower snow': 8, 'heavy snow': 9, 'light intensity drizzle': 10, 'light intensity shower rain': 11, 'light rain': 12, 'light rain and snow': 13, 'light shower snow': 14, 'light snow': 15, 'mist': 16, 'moderate rain': 17, 'overcast clouds': 18, 'proximity shower rain': 19, 'proximity thunderstorm': 20, 'scattered clouds': 21, 'sky is clear': 22, 'smoke': 23, 'snow': 24, 'thunderstorm': 25, 'thunderstorm with heavy rain': 26, 'very heavy rain': 27}]\n"
     ]
    }
   ],
   "source": [
    "x_data_train1, columns, dicts = convert_str_variable(x_data_train, 3)\n",
    "print('columns', columns)\n",
    "print('dicts', dicts)\n",
    "x_data_test1 = convert_str_variable(x_data_test, 3, columns=columns, dicts=dicts)[0]"
   ]
  },
  {
   "cell_type": "markdown",
   "metadata": {},
   "source": [
    "## 2. Wind classification"
   ]
  },
  {
   "cell_type": "code",
   "execution_count": 5,
   "metadata": {},
   "outputs": [],
   "source": [
    "from sklearn.neural_network import MLPClassifier\n",
    "from sklearn.metrics import accuracy_score"
   ]
  },
  {
   "cell_type": "code",
   "execution_count": 6,
   "metadata": {},
   "outputs": [],
   "source": [
    "clf = MLPClassifier(alpha=1e-5, hidden_layer_sizes=(100, 20), random_state=1)"
   ]
  },
  {
   "cell_type": "code",
   "execution_count": 7,
   "metadata": {},
   "outputs": [
    {
     "data": {
      "text/plain": [
       "MLPClassifier(alpha=1e-05, hidden_layer_sizes=(100, 20), random_state=1)"
      ]
     },
     "execution_count": 7,
     "metadata": {},
     "output_type": "execute_result"
    }
   ],
   "source": [
    "clf.fit(x_data_train, y_data_wind_train)"
   ]
  },
  {
   "cell_type": "code",
   "execution_count": null,
   "metadata": {},
   "outputs": [],
   "source": [
    "accuracy_score(clf.predict(x_data_test), y_data_wind_test)"
   ]
  },
  {
   "cell_type": "markdown",
   "metadata": {},
   "source": [
    "## 3. Temperature prediction"
   ]
  },
  {
   "cell_type": "code",
   "execution_count": 83,
   "metadata": {},
   "outputs": [],
   "source": [
    "regr = MLPRegressor(solver='lbfgs', alpha=1e-5, hidden_layer_sizes=(100, 20), random_state=1)"
   ]
  },
  {
   "cell_type": "code",
   "execution_count": null,
   "metadata": {},
   "outputs": [],
   "source": [
    "regr.fit(x_data_train, y_data_temperature_train)"
   ]
  },
  {
   "cell_type": "code",
   "execution_count": 85,
   "metadata": {},
   "outputs": [
    {
     "name": "stdout",
     "output_type": "stream",
     "text": [
      "MAE: 4.81 RMSE: 6.59\n"
     ]
    }
   ],
   "source": [
    "err = abs(regr.predict(x_data_test) - y_data_temperature_test)\n",
    "MAE = round(np.mean(err),2)\n",
    "RMSE = round(np.sqrt(((err)**2).mean()),2)\n",
    "print(\"MAE:\", MAE, \"RMSE:\", RMSE)"
   ]
  }
 ],
 "metadata": {
  "interpreter": {
   "hash": "aee8b7b246df8f9039afb4144a1f6fd8d2ca17a180786b69acc140d282b71a49"
  },
  "kernelspec": {
   "display_name": "Python 3.8.7 64-bit",
   "language": "python",
   "name": "python3"
  },
  "language_info": {
   "codemirror_mode": {
    "name": "ipython",
    "version": 3
   },
   "file_extension": ".py",
   "mimetype": "text/x-python",
   "name": "python",
   "nbconvert_exporter": "python",
   "pygments_lexer": "ipython3",
   "version": "3.9.7"
  },
  "orig_nbformat": 4
 },
 "nbformat": 4,
 "nbformat_minor": 2
}
