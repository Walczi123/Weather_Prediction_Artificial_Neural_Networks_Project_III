{
 "cells": [
  {
   "cell_type": "code",
   "execution_count": null,
   "metadata": {},
   "outputs": [],
   "source": [
    "import numpy as np\n",
    "import pandas as pd\n",
    "from sklearn import preprocessing\n",
    "from data_processing_functions import get_train_data, get_test_data,get_train_and_test_data,convert_str_variable, get_train_and_test_data_by_3_days"
   ]
  },
  {
   "cell_type": "markdown",
   "metadata": {},
   "source": [
    "## 1. Read Data"
   ]
  },
  {
   "cell_type": "code",
   "execution_count": null,
   "metadata": {},
   "outputs": [],
   "source": [
    "data_train, data_test = get_train_and_test_data('./data', amount_of_days=3, wind_border=8, convert_str_variable_flag=True)\n",
    "x_data_train, y_data_wind_train, y_data_temperature_train = data_train\n",
    "x_data_test, y_data_wind_test, y_data_temperature_test = data_test"
   ]
  },
  {
   "cell_type": "markdown",
   "metadata": {},
   "source": [
    "## 2. Wind classification"
   ]
  },
  {
   "cell_type": "code",
   "execution_count": null,
   "metadata": {},
   "outputs": [],
   "source": [
    "from sklearn.neural_network import MLPClassifier\n",
    "from sklearn.metrics import accuracy_score"
   ]
  },
  {
   "cell_type": "code",
   "execution_count": null,
   "metadata": {},
   "outputs": [],
   "source": [
    "clf = MLPClassifier(alpha=1e-5, hidden_layer_sizes=(100, 20), random_state=1)"
   ]
  },
  {
   "cell_type": "code",
   "execution_count": null,
   "metadata": {},
   "outputs": [],
   "source": [
    "clf.fit(x_data_train, y_data_wind_train)"
   ]
  },
  {
   "cell_type": "code",
   "execution_count": null,
   "metadata": {},
   "outputs": [],
   "source": [
    "accuracy_score(clf.predict(x_data_test), y_data_wind_test)"
   ]
  },
  {
   "cell_type": "markdown",
   "metadata": {},
   "source": [
    "## 3. Temperature prediction"
   ]
  },
  {
   "cell_type": "code",
   "execution_count": null,
   "metadata": {},
   "outputs": [],
   "source": [
    "from sklearn.neural_network import MLPRegressor"
   ]
  },
  {
   "cell_type": "code",
   "execution_count": null,
   "metadata": {},
   "outputs": [],
   "source": [
    "regr = MLPRegressor(solver='lbfgs', alpha=1e-5, hidden_layer_sizes=(100, 20), random_state=1)"
   ]
  },
  {
   "cell_type": "code",
   "execution_count": null,
   "metadata": {},
   "outputs": [],
   "source": [
    "regr.fit(x_data_train, y_data_temperature_train)"
   ]
  },
  {
   "cell_type": "code",
   "execution_count": null,
   "metadata": {},
   "outputs": [],
   "source": [
    "err = abs(regr.predict(x_data_test) - y_data_temperature_test)\n",
    "MAE = round(np.mean(err),2)\n",
    "RMSE = round(np.sqrt(((err)**2).mean()),2)\n",
    "print(\"MAE:\", MAE, \"RMSE:\", RMSE)"
   ]
  },
  {
   "cell_type": "markdown",
   "metadata": {},
   "source": [
    "## Helpers"
   ]
  },
  {
   "cell_type": "markdown",
   "metadata": {},
   "source": [
    "### Classification"
   ]
  },
  {
   "cell_type": "code",
   "execution_count": null,
   "metadata": {},
   "outputs": [],
   "source": [
    "def classification_test(x_train, y_train, x_test, y_test, hidden_layer_sizes = (100,20)):\n",
    "    mlpclf = MLPClassifier(alpha=1e-5, hidden_layer_sizes=hidden_layer_sizes, random_state=1)\n",
    "    mlpclf.fit(x_train, y_train)\n",
    "    print(\"Classification accuracy: \",accuracy_score(mlpclf.predict(x_test), y_test))"
   ]
  },
  {
   "cell_type": "markdown",
   "metadata": {},
   "source": [
    "### Regression"
   ]
  },
  {
   "cell_type": "code",
   "execution_count": null,
   "metadata": {},
   "outputs": [],
   "source": [
    "def regression_test(x_train, y_train, x_test, y_test, hidden_layer_sizes = (100,20), solver='lbfgs'):\n",
    "    mlpregr = MLPRegressor(solver=solver, alpha=1e-5, hidden_layer_sizes=hidden_layer_sizes, random_state=1)\n",
    "    mlpregr.fit(x_train, y_train)\n",
    "    err = abs(mlpregr.predict(x_test) - y_test)\n",
    "    MAE = round(np.mean(err),2)\n",
    "    RMSE = round(np.sqrt(((err)**2).mean()),2)\n",
    "    print(\"Regression errors - MAE:\", MAE, \"RMSE:\", RMSE)"
   ]
  },
  {
   "cell_type": "markdown",
   "metadata": {},
   "source": [
    "### Test"
   ]
  },
  {
   "cell_type": "code",
   "execution_count": null,
   "metadata": {},
   "outputs": [],
   "source": [
    "classification_test(x_data_train, y_data_wind_train, x_data_test, y_data_wind_test)\n",
    "regression_test(x_data_train, y_data_temperature_train, x_data_test, y_data_temperature_test)"
   ]
  },
  {
   "cell_type": "markdown",
   "metadata": {},
   "source": [
    "## Study issue I"
   ]
  },
  {
   "cell_type": "markdown",
   "metadata": {},
   "source": [
    "### Mean normalization"
   ]
  },
  {
   "cell_type": "code",
   "execution_count": null,
   "metadata": {},
   "outputs": [],
   "source": [
    "def mean_normalization(df_data):\n",
    "    return (df_data-df_data.mean())/df_data.std()"
   ]
  },
  {
   "cell_type": "code",
   "execution_count": null,
   "metadata": {},
   "outputs": [],
   "source": [
    "normalized_x_train = mean_normalization(x_data_train)\n",
    "normalized_y_temp_train = mean_normalization(y_data_temperature_train)\n",
    "normalized_x_test = mean_normalization(x_data_test)\n",
    "normalized_y_temp_test = mean_normalization(y_data_temperature_test)\n",
    "\n",
    "classification_test(normalized_x_train, y_data_wind_train, normalized_x_test, y_data_wind_test)\n",
    "regression_test(normalized_x_train, normalized_y_temp_train, normalized_x_test, normalized_y_temp_test)"
   ]
  },
  {
   "cell_type": "markdown",
   "metadata": {},
   "source": [
    "### Min-max normalization"
   ]
  },
  {
   "cell_type": "code",
   "execution_count": null,
   "metadata": {},
   "outputs": [],
   "source": [
    "def minmax_normalization(df_data):\n",
    "    return (df_data-df_data.min())/(df_data.max()-df_data.min())"
   ]
  },
  {
   "cell_type": "code",
   "execution_count": null,
   "metadata": {},
   "outputs": [],
   "source": [
    "normalized_x_train = minmax_normalization(x_data_train)\n",
    "normalized_y_temp_train = minmax_normalization(y_data_temperature_train)\n",
    "normalized_x_test = minmax_normalization(x_data_test)\n",
    "normalized_y_temp_test = minmax_normalization(y_data_temperature_test)\n",
    "normalized_y_wind_train = minmax_normalization(y_data_wind_train)\n",
    "normalized_y_wind_test = minmax_normalization(y_data_wind_test)\n",
    "\n",
    "classification_test(normalized_x_train, normalized_y_wind_train, normalized_x_test, normalized_y_wind_test)\n",
    "regression_test(normalized_x_train, normalized_y_temp_train, normalized_x_test, normalized_y_temp_test)"
   ]
  },
  {
   "cell_type": "markdown",
   "metadata": {},
   "source": [
    "### Sklearn scaler"
   ]
  },
  {
   "cell_type": "code",
   "execution_count": null,
   "metadata": {},
   "outputs": [],
   "source": [
    "# min_max_scaler = preprocessing.MinMaxScaler()\n",
    "# normalized_x_train = pd.DataFrame(min_max_scaler.fit_transform(x_data_train.values))\n",
    "# normalized_y_temp_train = pd.DataFrame(min_max_scaler.fit_transform(y_data_temperature_train.values.reshape(-1,1)).reshape(-1,))\n",
    "# normalized_x_test = pd.DataFrame(min_max_scaler.fit_transform(x_data_test.values))\n",
    "# normalized_y_temp_test = pd.DataFrame(min_max_scaler.fit_transform(y_data_temperature_test.values.reshape(-1,1)).reshape(-1,))\n",
    "\n",
    "# classification_test(normalized_x_train, y_data_wind_train, normalized_x_test, y_data_wind_test)\n",
    "# regression_test(normalized_x_train, normalized_y_temp_train, normalized_x_test, normalized_y_temp_test)"
   ]
  },
  {
   "cell_type": "markdown",
   "metadata": {},
   "source": [
    "## Study issue II"
   ]
  },
  {
   "cell_type": "markdown",
   "metadata": {},
   "source": [
    "### Original data"
   ]
  },
  {
   "cell_type": "markdown",
   "metadata": {},
   "source": [
    "#### 2 * N + 1"
   ]
  },
  {
   "cell_type": "code",
   "execution_count": null,
   "metadata": {},
   "outputs": [],
   "source": [
    "classification_test(x_data_train, y_data_wind_train, x_data_test, y_data_wind_test, hidden_layer_sizes=(45))\n",
    "regression_test(x_data_train, y_data_temperature_train, x_data_test, y_data_temperature_test, hidden_layer_sizes=(45))"
   ]
  },
  {
   "cell_type": "markdown",
   "metadata": {},
   "source": [
    "#### sqrt(N*M)"
   ]
  },
  {
   "cell_type": "code",
   "execution_count": null,
   "metadata": {},
   "outputs": [],
   "source": [
    "classification_test(x_data_train, y_data_wind_train, x_data_test, y_data_wind_test, hidden_layer_sizes=(5))\n",
    "regression_test(x_data_train, y_data_temperature_train, x_data_test, y_data_temperature_test, hidden_layer_sizes=(5))"
   ]
  },
  {
   "cell_type": "markdown",
   "metadata": {},
   "source": [
    "### Normalized data"
   ]
  },
  {
   "cell_type": "markdown",
   "metadata": {},
   "source": [
    "#### 2 * N + 1"
   ]
  },
  {
   "cell_type": "code",
   "execution_count": null,
   "metadata": {},
   "outputs": [],
   "source": [
    "classification_test(normalized_x_train, y_data_wind_train, normalized_x_test, y_data_wind_test, hidden_layer_sizes=(45))\n",
    "regression_test(normalized_x_train, normalized_y_temp_train, normalized_x_test, normalized_y_temp_test, hidden_layer_sizes=(45))"
   ]
  },
  {
   "cell_type": "markdown",
   "metadata": {},
   "source": [
    "#### sqrt(N*M)"
   ]
  },
  {
   "cell_type": "code",
   "execution_count": null,
   "metadata": {},
   "outputs": [],
   "source": [
    "classification_test(normalized_x_train, y_data_wind_train, normalized_x_test, y_data_wind_test, hidden_layer_sizes=(5))\n",
    "regression_test(normalized_x_train, normalized_y_temp_train, normalized_x_test, normalized_y_temp_test, hidden_layer_sizes=(5))"
   ]
  },
  {
   "cell_type": "markdown",
   "metadata": {},
   "source": [
    "## Study issue III"
   ]
  },
  {
   "cell_type": "code",
   "execution_count": null,
   "metadata": {},
   "outputs": [],
   "source": [
    "import numpy as np\n",
    "import pandas as pd\n",
    "from sklearn import preprocessing\n",
    "from data_processing_functions import get_train_data, get_test_data,get_train_and_test_data,convert_str_variable, get_train_and_test_data_by_3_days"
   ]
  },
  {
   "cell_type": "markdown",
   "metadata": {},
   "source": [
    "## Read data"
   ]
  },
  {
   "cell_type": "code",
   "execution_count": null,
   "metadata": {},
   "outputs": [],
   "source": [
    "data_3_train, data_3_test = get_train_and_test_data_by_3_days('./data', amount_of_days=3, wind_border=8, convert_str_variable_flag=True)\n",
    "x_data_3_train, y_data_3_wind_train, y_data_3_temperature_train = data_3_train\n",
    "x_data_3_test, y_data_3_wind_test, y_data_3_temperature_test = data_3_test"
   ]
  },
  {
   "cell_type": "code",
   "execution_count": null,
   "metadata": {},
   "outputs": [],
   "source": [
    "classification_test(x_data_3_train, y_data_3_wind_train, x_data_3_test, y_data_3_wind_test)\n",
    "regression_test(x_data_3_train, y_data_3_temperature_train, x_data_3_test, y_data_3_temperature_test)"
   ]
  },
  {
   "cell_type": "code",
   "execution_count": null,
   "metadata": {},
   "outputs": [],
   "source": [
    "normalized_x_train3 = mean_normalization(x_data_3_train)\n",
    "normalized_y_temp_train3 = mean_normalization(y_data_3_temperature_train)\n",
    "normalized_x_test3 = mean_normalization(x_data_3_test)\n",
    "normalized_y_temp_test3 = mean_normalization(y_data_3_temperature_test)\n",
    "\n",
    "classification_test(normalized_x_train3, y_data_wind_train, normalized_x_test3, y_data_wind_test)\n",
    "regression_test(normalized_x_train3, normalized_y_temp_train3, normalized_x_test3, normalized_y_temp_test3)"
   ]
  }
 ],
 "metadata": {
  "interpreter": {
   "hash": "aee8b7b246df8f9039afb4144a1f6fd8d2ca17a180786b69acc140d282b71a49"
  },
  "kernelspec": {
   "display_name": "Python 3.8.7 64-bit",
   "language": "python",
   "name": "python3"
  },
  "language_info": {
   "codemirror_mode": {
    "name": "ipython",
    "version": 3
   },
   "file_extension": ".py",
   "mimetype": "text/x-python",
   "name": "python",
   "nbconvert_exporter": "python",
   "pygments_lexer": "ipython3",
   "version": "3.9.9"
  },
  "orig_nbformat": 4
 },
 "nbformat": 4,
 "nbformat_minor": 2
}
